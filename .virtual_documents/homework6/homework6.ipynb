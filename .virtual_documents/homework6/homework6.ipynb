import numpy as np


list = [20,27,9,12,31,17,4,50,39,35]
arr = np.array(list)
doubled = arr * 4
print(doubled)


print(np.mean(arr))


print(np.median(arr))


print(np.std(arr))


print(np.argmin(arr))


print(np.argmax(arr))


print(arr[np.argmin(arr)])


print(arr[np.argmax(arr)])


print(np.min(arr))



print(np.max(arr))


print(arr[arr>20])


matrix =np.array([
    [5,12,17,9],
    [8,21,14,3],
    [6,13,19,11]
])


print(np.shape(matrix))


print(matrix[:,2])


print(matrix[1])


print(matrix * 2)


print(np.mean(matrix,axis = 0))


print(np.mean(matrix))


print(np.max(matrix, axis=0))


print(np.min(matrix, axis=0))


flat = matrix.flatten()
print(flat)
#.flatten() turned the 2D matrix into a single array, with the values next to each other.


print(np.argmin(flat))


print(np.argmax(flat))


print(np.unravel_index(np.argmin(flat), matrix.shape))
print(np.unravel_index(np.argmax(flat), matrix.shape))



print(matrix[matrix>15])


print(np.sort(matrix,axis=1))


arr = np.array([
    [2,3,5],
    [14,6,8],
    [11,13,17],
    [7,10,13]
])





def is_prime(n):
    if n%2==0 :
        return False
    for i in range(2, int(np.sqrt(n)) +1):
        if n%i==0:
            return False
    return True

def prime_rows(array):
    result = []
    for row in array:
        for num in row:
            if is_prime(num) == True:
                result.append(row)
                break
    return np.array(result)
    


print(prime_rows(arr))


#5.1
np.zeros((8,8),dtype=int) 


def checkerboard():
    a = np.zeros((8,8),dtype=int)
    a[1::2, 1::2] = 1
    a[::2, ::2] = 1
    return a


checkerboard()


def reverse_checkerboard():
    a = np.zeros((8,8),dtype=int)
    a[::2, 1::2] = 1
    a[1::2, ::2] = 1
    return a 
reverse_checkerboard()


def expanding_universe(w,s):
    space = " " * s
    return np.array([space.join(word) for word in w])




universe = np.array(['galaxy', 'clusters'])
print(expanding_universe(universe, 1))  # 1 space
print(expanding_universe(universe, 2))  # 2 spaces


def secondDimmest(stars):
    s = np.sort(stars, axis=1)
    return s[:,-2]
np.random.seed(123)
stars = np.random.randint(500, 2000, (5, 5))
print(stars)
secondDimmest(stars)



