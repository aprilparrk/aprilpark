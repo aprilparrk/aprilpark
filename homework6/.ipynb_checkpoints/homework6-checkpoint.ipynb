{
 "cells": [
  {
   "cell_type": "code",
   "execution_count": 1,
   "id": "6406611b-5f2d-4134-8e63-eb6df4e2dd88",
   "metadata": {},
   "outputs": [],
   "source": [
    "import numpy as np"
   ]
  },
  {
   "cell_type": "code",
   "execution_count": 2,
   "id": "890b0710-bed0-4eb9-891c-36ddd5652fe4",
   "metadata": {},
   "outputs": [
    {
     "name": "stdout",
     "output_type": "stream",
     "text": [
      "[ 80 108  36  48 124  68  16 200 156 140]\n"
     ]
    }
   ],
   "source": [
    "list = [20,27,9,12,31,17,4,50,39,35]\n",
    "arr = np.array(list)\n",
    "doubled = arr * 4\n",
    "print(doubled)"
   ]
  },
  {
   "cell_type": "code",
   "execution_count": 8,
   "id": "08661ecd-6ec5-4bba-bb0f-1f615d4094ed",
   "metadata": {},
   "outputs": [
    {
     "name": "stdout",
     "output_type": "stream",
     "text": [
      "24.4\n"
     ]
    }
   ],
   "source": [
    "print(np.mean(arr))"
   ]
  },
  {
   "cell_type": "code",
   "execution_count": 6,
   "id": "98b53877-764c-45e2-bbc0-32062aff411c",
   "metadata": {},
   "outputs": [
    {
     "name": "stdout",
     "output_type": "stream",
     "text": [
      "23.5\n"
     ]
    }
   ],
   "source": [
    "print(np.median(arr))"
   ]
  },
  {
   "cell_type": "code",
   "execution_count": 9,
   "id": "3f5bbd94-e1a8-4d2e-9281-8d86e9d65563",
   "metadata": {},
   "outputs": [
    {
     "name": "stdout",
     "output_type": "stream",
     "text": [
      "13.828955130450023\n"
     ]
    }
   ],
   "source": [
    "print(np.std(arr))"
   ]
  },
  {
   "cell_type": "code",
   "execution_count": 12,
   "id": "4552b0a6-022c-48e4-adcb-40ee7b4866fa",
   "metadata": {},
   "outputs": [
    {
     "name": "stdout",
     "output_type": "stream",
     "text": [
      "6\n"
     ]
    }
   ],
   "source": [
    "print(np.argmin(arr))"
   ]
  },
  {
   "cell_type": "code",
   "execution_count": 13,
   "id": "3f3fa076-24b9-4d20-98b1-dfd92210ee72",
   "metadata": {},
   "outputs": [
    {
     "name": "stdout",
     "output_type": "stream",
     "text": [
      "7\n"
     ]
    }
   ],
   "source": [
    "print(np.argmax(arr))"
   ]
  },
  {
   "cell_type": "code",
   "execution_count": 16,
   "id": "1aa9a097-a12b-4574-abc8-2233f0868025",
   "metadata": {},
   "outputs": [
    {
     "name": "stdout",
     "output_type": "stream",
     "text": [
      "4\n"
     ]
    }
   ],
   "source": [
    "print(arr[np.argmin(arr)])"
   ]
  },
  {
   "cell_type": "code",
   "execution_count": 17,
   "id": "44b76b14-c38f-4ee3-8f60-b143f863c533",
   "metadata": {},
   "outputs": [
    {
     "name": "stdout",
     "output_type": "stream",
     "text": [
      "50\n"
     ]
    }
   ],
   "source": [
    "print(arr[np.argmax(arr)])"
   ]
  },
  {
   "cell_type": "code",
   "execution_count": 18,
   "id": "295d35c4-2af6-4e9d-b4f2-5c3c704f5a08",
   "metadata": {},
   "outputs": [
    {
     "name": "stdout",
     "output_type": "stream",
     "text": [
      "4\n"
     ]
    }
   ],
   "source": [
    "print(np.min(arr))\n"
   ]
  },
  {
   "cell_type": "code",
   "execution_count": 19,
   "id": "b3f20f75-23b4-4b31-b9bf-332b2f4882e5",
   "metadata": {},
   "outputs": [
    {
     "name": "stdout",
     "output_type": "stream",
     "text": [
      "50\n"
     ]
    }
   ],
   "source": [
    "print(np.max(arr))"
   ]
  },
  {
   "cell_type": "code",
   "execution_count": 22,
   "id": "9fe620d1-18f6-4ca1-b6c5-b4cec412d2bc",
   "metadata": {},
   "outputs": [
    {
     "name": "stdout",
     "output_type": "stream",
     "text": [
      "[27 31 50 39 35]\n"
     ]
    }
   ],
   "source": [
    "print(arr[arr>20])"
   ]
  },
  {
   "cell_type": "code",
   "execution_count": 30,
   "id": "7acc77ab-48fc-4bdd-9e37-10fba42ecb3c",
   "metadata": {},
   "outputs": [],
   "source": [
    "matrix =np.array([\n",
    "    [5,12,17,9],\n",
    "    [8,21,14,3],\n",
    "    [6,13,19,11]\n",
    "])"
   ]
  },
  {
   "cell_type": "code",
   "execution_count": 31,
   "id": "27e0a011-655f-45f1-a51d-53ab33051d88",
   "metadata": {},
   "outputs": [
    {
     "name": "stdout",
     "output_type": "stream",
     "text": [
      "(3, 4)\n"
     ]
    }
   ],
   "source": [
    "print(np.shape(matrix))"
   ]
  },
  {
   "cell_type": "code",
   "execution_count": 36,
   "id": "6424168e-584b-4bc6-8248-325f5817f794",
   "metadata": {},
   "outputs": [
    {
     "name": "stdout",
     "output_type": "stream",
     "text": [
      "[17 14 19]\n"
     ]
    }
   ],
   "source": [
    "print(matrix[:,2])"
   ]
  },
  {
   "cell_type": "code",
   "execution_count": 37,
   "id": "90035a74-7ab0-4e60-a333-109d6131250c",
   "metadata": {},
   "outputs": [
    {
     "name": "stdout",
     "output_type": "stream",
     "text": [
      "[ 8 21 14  3]\n"
     ]
    }
   ],
   "source": [
    "print(matrix[1])"
   ]
  },
  {
   "cell_type": "code",
   "execution_count": 38,
   "id": "fcfa2cee-6a65-4ad9-8b3f-4ea6bf5eaf3e",
   "metadata": {},
   "outputs": [
    {
     "name": "stdout",
     "output_type": "stream",
     "text": [
      "[[10 24 34 18]\n",
      " [16 42 28  6]\n",
      " [12 26 38 22]]\n"
     ]
    }
   ],
   "source": [
    "print(matrix * 2)"
   ]
  },
  {
   "cell_type": "code",
   "execution_count": 40,
   "id": "ecd0a248-da3d-43e3-8720-95a345da5ac2",
   "metadata": {},
   "outputs": [
    {
     "name": "stdout",
     "output_type": "stream",
     "text": [
      "[ 6.33333333 15.33333333 16.66666667  7.66666667]\n"
     ]
    }
   ],
   "source": [
    "print(np.mean(matrix,axis = 0))"
   ]
  },
  {
   "cell_type": "code",
   "execution_count": 41,
   "id": "c86aef84-4ba5-4477-bbf2-61b63dbb6c18",
   "metadata": {},
   "outputs": [
    {
     "name": "stdout",
     "output_type": "stream",
     "text": [
      "11.5\n"
     ]
    }
   ],
   "source": [
    "print(np.mean(matrix))"
   ]
  },
  {
   "cell_type": "code",
   "execution_count": 42,
   "id": "12a2ed3b-1c70-4487-8410-45e78b9748b8",
   "metadata": {},
   "outputs": [
    {
     "name": "stdout",
     "output_type": "stream",
     "text": [
      "[ 8 21 19 11]\n"
     ]
    }
   ],
   "source": [
    "print(np.max(matrix, axis=0))"
   ]
  },
  {
   "cell_type": "code",
   "execution_count": 43,
   "id": "8a7a6cdf-8858-41c2-bcb8-72cf15edf405",
   "metadata": {},
   "outputs": [
    {
     "name": "stdout",
     "output_type": "stream",
     "text": [
      "[ 5 12 14  3]\n"
     ]
    }
   ],
   "source": [
    "print(np.min(matrix, axis=0))"
   ]
  },
  {
   "cell_type": "code",
   "execution_count": 48,
   "id": "f6b89859-c810-4064-8b15-75190ef36f3e",
   "metadata": {},
   "outputs": [
    {
     "name": "stdout",
     "output_type": "stream",
     "text": [
      "[ 5 12 17  9  8 21 14  3  6 13 19 11]\n"
     ]
    }
   ],
   "source": [
    "flat = matrix.flatten()\n",
    "print(flat)\n",
    "#.flatten() turned the 2D matrix into a single array, with the values next to each other."
   ]
  },
  {
   "cell_type": "code",
   "execution_count": 49,
   "id": "9104755d-545c-461b-8da7-4d7c53be4098",
   "metadata": {},
   "outputs": [
    {
     "name": "stdout",
     "output_type": "stream",
     "text": [
      "7\n"
     ]
    }
   ],
   "source": [
    "print(np.argmin(flat))"
   ]
  },
  {
   "cell_type": "code",
   "execution_count": 50,
   "id": "1b11e8e2-52c3-4623-87f0-9aa609da2885",
   "metadata": {},
   "outputs": [
    {
     "name": "stdout",
     "output_type": "stream",
     "text": [
      "5\n"
     ]
    }
   ],
   "source": [
    "print(np.argmax(flat))"
   ]
  },
  {
   "cell_type": "code",
   "execution_count": 54,
   "id": "d216c909-dc85-4975-8cb7-9fcedebb3b13",
   "metadata": {},
   "outputs": [
    {
     "name": "stdout",
     "output_type": "stream",
     "text": [
      "(np.int64(1), np.int64(3))\n",
      "(np.int64(1), np.int64(1))\n"
     ]
    }
   ],
   "source": [
    "print(np.unravel_index(np.argmin(flat), matrix.shape))\n",
    "print(np.unravel_index(np.argmax(flat), matrix.shape))\n"
   ]
  },
  {
   "cell_type": "code",
   "execution_count": 56,
   "id": "fc050a6a-6d3d-4608-85b3-5b6f3029bef8",
   "metadata": {},
   "outputs": [
    {
     "name": "stdout",
     "output_type": "stream",
     "text": [
      "[17 21 19]\n"
     ]
    }
   ],
   "source": [
    "print(matrix[matrix>15])"
   ]
  },
  {
   "cell_type": "code",
   "execution_count": 57,
   "id": "19cbca63-84f0-4575-b79a-1bf81d147334",
   "metadata": {},
   "outputs": [
    {
     "name": "stdout",
     "output_type": "stream",
     "text": [
      "[[ 5  9 12 17]\n",
      " [ 3  8 14 21]\n",
      " [ 6 11 13 19]]\n"
     ]
    }
   ],
   "source": [
    "print(np.sort(matrix,axis=1))"
   ]
  },
  {
   "cell_type": "code",
   "execution_count": 65,
   "id": "71c9c26c-2a72-4174-b007-4bb0980ea6e3",
   "metadata": {},
   "outputs": [],
   "source": [
    "arr = np.array([\n",
    "    [2,3,5],\n",
    "    [14,6,8],\n",
    "    [11,13,17],\n",
    "    [7,10,13]\n",
    "])\n",
    "\n",
    "\n",
    "\n",
    "\n",
    "\n",
    "def is_prime(n):\n",
    "    if n%2==0 :\n",
    "        return False\n",
    "    for i in range(2, int(np.sqrt(n)) +1):\n",
    "        if n%i==0:\n",
    "            return False\n",
    "    return True\n",
    "\n",
    "def prime_rows(array):\n",
    "    result = []\n",
    "    for row in array:\n",
    "        for num in row:\n",
    "            if is_prime(num) == True:\n",
    "                result.append(row)\n",
    "                break\n",
    "    return np.array(result)\n",
    "    "
   ]
  },
  {
   "cell_type": "code",
   "execution_count": 66,
   "id": "f7b35206-345d-4f7c-b68a-923d164d692c",
   "metadata": {},
   "outputs": [
    {
     "name": "stdout",
     "output_type": "stream",
     "text": [
      "[[ 2  3  5]\n",
      " [11 13 17]\n",
      " [ 7 10 13]]\n"
     ]
    }
   ],
   "source": [
    "print(prime_rows(arr))"
   ]
  },
  {
   "cell_type": "code",
   "execution_count": 68,
   "id": "c9ab42c7-233c-4ee8-965b-c439a96bf4bc",
   "metadata": {},
   "outputs": [
    {
     "data": {
      "text/plain": [
       "array([[0, 0, 0, 0, 0, 0, 0, 0],\n",
       "       [0, 0, 0, 0, 0, 0, 0, 0],\n",
       "       [0, 0, 0, 0, 0, 0, 0, 0],\n",
       "       [0, 0, 0, 0, 0, 0, 0, 0],\n",
       "       [0, 0, 0, 0, 0, 0, 0, 0],\n",
       "       [0, 0, 0, 0, 0, 0, 0, 0],\n",
       "       [0, 0, 0, 0, 0, 0, 0, 0],\n",
       "       [0, 0, 0, 0, 0, 0, 0, 0]])"
      ]
     },
     "execution_count": 68,
     "metadata": {},
     "output_type": "execute_result"
    }
   ],
   "source": [
    "#5.1\n",
    "np.zeros((8,8),dtype=int) "
   ]
  },
  {
   "cell_type": "code",
   "execution_count": null,
   "id": "3ae9b0e7-f4b3-4e6b-9cb9-daa737012f05",
   "metadata": {},
   "outputs": [],
   "source": []
  }
 ],
 "metadata": {
  "kernelspec": {
   "display_name": "Python [conda env:base] *",
   "language": "python",
   "name": "conda-base-py"
  },
  "language_info": {
   "codemirror_mode": {
    "name": "ipython",
    "version": 3
   },
   "file_extension": ".py",
   "mimetype": "text/x-python",
   "name": "python",
   "nbconvert_exporter": "python",
   "pygments_lexer": "ipython3",
   "version": "3.13.5"
  }
 },
 "nbformat": 4,
 "nbformat_minor": 5
}
